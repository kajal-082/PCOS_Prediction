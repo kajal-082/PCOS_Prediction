{
  "nbformat": 4,
  "nbformat_minor": 0,
  "metadata": {
    "colab": {
      "provenance": []
    },
    "kernelspec": {
      "name": "python3",
      "display_name": "Python 3"
    },
    "language_info": {
      "name": "python"
    }
  },
  "cells": [
    {
      "cell_type": "markdown",
      "source": [
        "**PREDICTING PCOS IN CASES WITHOUT INFERTILITY**\n",
        "\n",
        "**USING LOGISTIC REGRESSION**"
      ],
      "metadata": {
        "id": "ELHQgSNQGBbJ"
      }
    },
    {
      "cell_type": "code",
      "source": [
        "import pandas as pd\n",
        "import numpy as np\n",
        "import matplotlib.pyplot as plt\n",
        "import seaborn as sns\n",
        "from sklearn.model_selection import train_test_split, StratifiedKFold, GridSearchCV\n",
        "from sklearn.preprocessing import StandardScaler, LabelEncoder\n",
        "from sklearn.impute import SimpleImputer\n",
        "from sklearn.linear_model import LogisticRegression\n",
        "from sklearn.svm import SVC\n",
        "from sklearn.ensemble import RandomForestClassifier, VotingClassifier\n",
        "from sklearn.metrics import accuracy_score, classification_report\n",
        "from imblearn.over_sampling import SMOTE\n",
        "from imblearn.combine import SMOTETomek"
      ],
      "metadata": {
        "id": "QNIJCcITD7Hr"
      },
      "execution_count": 20,
      "outputs": []
    },
    {
      "cell_type": "code",
      "source": [
        "from google.colab import drive\n",
        "drive.mount('/content/drive')\n",
        "file_path = r\"/content/drive/MyDrive/PCOS_data_without_infertility.xlsx\"\n",
        "data = pd.read_excel(file_path , sheet_name=\"Full_new\")"
      ],
      "metadata": {
        "colab": {
          "base_uri": "https://localhost:8080/"
        },
        "id": "2wz-APbaEAjz",
        "outputId": "a70eefbc-1fcb-4b03-893f-1856f2a87eff"
      },
      "execution_count": 21,
      "outputs": [
        {
          "output_type": "stream",
          "name": "stdout",
          "text": [
            "Drive already mounted at /content/drive; to attempt to forcibly remount, call drive.mount(\"/content/drive\", force_remount=True).\n"
          ]
        }
      ]
    },
    {
      "cell_type": "code",
      "source": [
        "# Display basic information about the dataset\n",
        "data.info()\n",
        "data.head()"
      ],
      "metadata": {
        "colab": {
          "base_uri": "https://localhost:8080/",
          "height": 1000
        },
        "id": "agDwduICEgnt",
        "outputId": "a7c0bd31-8f26-4a32-cc27-d0a1a018de51"
      },
      "execution_count": 23,
      "outputs": [
        {
          "output_type": "stream",
          "name": "stdout",
          "text": [
            "<class 'pandas.core.frame.DataFrame'>\n",
            "RangeIndex: 541 entries, 0 to 540\n",
            "Data columns (total 45 columns):\n",
            " #   Column                  Non-Null Count  Dtype  \n",
            "---  ------                  --------------  -----  \n",
            " 0   Sl. No                  541 non-null    int64  \n",
            " 1   Patient File No.        541 non-null    int64  \n",
            " 2   PCOS (Y/N)              541 non-null    int64  \n",
            " 3    Age (yrs)              541 non-null    int64  \n",
            " 4   Weight (Kg)             541 non-null    float64\n",
            " 5   Height(Cm)              541 non-null    float64\n",
            " 6   BMI                     541 non-null    float64\n",
            " 7   Blood Group             541 non-null    int64  \n",
            " 8   Pulse rate(bpm)         541 non-null    int64  \n",
            " 9   RR (breaths/min)        541 non-null    int64  \n",
            " 10  Hb(g/dl)                541 non-null    float64\n",
            " 11  Cycle(R/I)              541 non-null    int64  \n",
            " 12  Cycle length(days)      541 non-null    int64  \n",
            " 13  Marraige Status (Yrs)   540 non-null    float64\n",
            " 14  Pregnant(Y/N)           541 non-null    int64  \n",
            " 15  No. of aborptions       541 non-null    int64  \n",
            " 16    I   beta-HCG(mIU/mL)  541 non-null    float64\n",
            " 17  II    beta-HCG(mIU/mL)  541 non-null    object \n",
            " 18  FSH(mIU/mL)             541 non-null    float64\n",
            " 19  LH(mIU/mL)              541 non-null    float64\n",
            " 20  FSH/LH                  541 non-null    float64\n",
            " 21  Hip(inch)               541 non-null    int64  \n",
            " 22  Waist(inch)             541 non-null    int64  \n",
            " 23  Waist:Hip Ratio         541 non-null    float64\n",
            " 24  TSH (mIU/L)             541 non-null    float64\n",
            " 25  AMH(ng/mL)              541 non-null    object \n",
            " 26  PRL(ng/mL)              541 non-null    float64\n",
            " 27  Vit D3 (ng/mL)          541 non-null    float64\n",
            " 28  PRG(ng/mL)              541 non-null    float64\n",
            " 29  RBS(mg/dl)              541 non-null    float64\n",
            " 30  Weight gain(Y/N)        541 non-null    int64  \n",
            " 31  hair growth(Y/N)        541 non-null    int64  \n",
            " 32  Skin darkening (Y/N)    541 non-null    int64  \n",
            " 33  Hair loss(Y/N)          541 non-null    int64  \n",
            " 34  Pimples(Y/N)            541 non-null    int64  \n",
            " 35  Fast food (Y/N)         540 non-null    float64\n",
            " 36  Reg.Exercise(Y/N)       541 non-null    int64  \n",
            " 37  BP _Systolic (mmHg)     541 non-null    int64  \n",
            " 38  BP _Diastolic (mmHg)    541 non-null    int64  \n",
            " 39  Follicle No. (L)        541 non-null    int64  \n",
            " 40  Follicle No. (R)        541 non-null    int64  \n",
            " 41  Avg. F size (L) (mm)    541 non-null    float64\n",
            " 42  Avg. F size (R) (mm)    541 non-null    float64\n",
            " 43  Endometrium (mm)        541 non-null    float64\n",
            " 44  Unnamed: 44             2 non-null      object \n",
            "dtypes: float64(19), int64(23), object(3)\n",
            "memory usage: 190.3+ KB\n"
          ]
        },
        {
          "output_type": "execute_result",
          "data": {
            "text/plain": [
              "   Sl. No  Patient File No.  PCOS (Y/N)   Age (yrs)  Weight (Kg)  Height(Cm)   \\\n",
              "0       1                 1           0          28         44.6        152.0   \n",
              "1       2                 2           0          36         65.0        161.5   \n",
              "2       3                 3           1          33         68.8        165.0   \n",
              "3       4                 4           0          37         65.0        148.0   \n",
              "4       5                 5           0          25         52.0        161.0   \n",
              "\n",
              "         BMI  Blood Group  Pulse rate(bpm)   RR (breaths/min)  ...  \\\n",
              "0  19.300000           15                78                22  ...   \n",
              "1  24.921163           15                74                20  ...   \n",
              "2  25.270891           11                72                18  ...   \n",
              "3  29.674945           13                72                20  ...   \n",
              "4  20.060954           11                72                18  ...   \n",
              "\n",
              "   Fast food (Y/N)  Reg.Exercise(Y/N)  BP _Systolic (mmHg)  \\\n",
              "0              1.0                  0                  110   \n",
              "1              0.0                  0                  120   \n",
              "2              1.0                  0                  120   \n",
              "3              0.0                  0                  120   \n",
              "4              0.0                  0                  120   \n",
              "\n",
              "   BP _Diastolic (mmHg)  Follicle No. (L)  Follicle No. (R)  \\\n",
              "0                    80                 3                 3   \n",
              "1                    70                 3                 5   \n",
              "2                    80                13                15   \n",
              "3                    70                 2                 2   \n",
              "4                    80                 3                 4   \n",
              "\n",
              "   Avg. F size (L) (mm) Avg. F size (R) (mm)  Endometrium (mm)  Unnamed: 44  \n",
              "0                  18.0                 18.0               8.5          NaN  \n",
              "1                  15.0                 14.0               3.7          NaN  \n",
              "2                  18.0                 20.0              10.0          NaN  \n",
              "3                  15.0                 14.0               7.5          NaN  \n",
              "4                  16.0                 14.0               7.0          NaN  \n",
              "\n",
              "[5 rows x 45 columns]"
            ],
            "text/html": [
              "\n",
              "  <div id=\"df-b6a80845-8325-459e-aed8-6819d8219564\" class=\"colab-df-container\">\n",
              "    <div>\n",
              "<style scoped>\n",
              "    .dataframe tbody tr th:only-of-type {\n",
              "        vertical-align: middle;\n",
              "    }\n",
              "\n",
              "    .dataframe tbody tr th {\n",
              "        vertical-align: top;\n",
              "    }\n",
              "\n",
              "    .dataframe thead th {\n",
              "        text-align: right;\n",
              "    }\n",
              "</style>\n",
              "<table border=\"1\" class=\"dataframe\">\n",
              "  <thead>\n",
              "    <tr style=\"text-align: right;\">\n",
              "      <th></th>\n",
              "      <th>Sl. No</th>\n",
              "      <th>Patient File No.</th>\n",
              "      <th>PCOS (Y/N)</th>\n",
              "      <th>Age (yrs)</th>\n",
              "      <th>Weight (Kg)</th>\n",
              "      <th>Height(Cm)</th>\n",
              "      <th>BMI</th>\n",
              "      <th>Blood Group</th>\n",
              "      <th>Pulse rate(bpm)</th>\n",
              "      <th>RR (breaths/min)</th>\n",
              "      <th>...</th>\n",
              "      <th>Fast food (Y/N)</th>\n",
              "      <th>Reg.Exercise(Y/N)</th>\n",
              "      <th>BP _Systolic (mmHg)</th>\n",
              "      <th>BP _Diastolic (mmHg)</th>\n",
              "      <th>Follicle No. (L)</th>\n",
              "      <th>Follicle No. (R)</th>\n",
              "      <th>Avg. F size (L) (mm)</th>\n",
              "      <th>Avg. F size (R) (mm)</th>\n",
              "      <th>Endometrium (mm)</th>\n",
              "      <th>Unnamed: 44</th>\n",
              "    </tr>\n",
              "  </thead>\n",
              "  <tbody>\n",
              "    <tr>\n",
              "      <th>0</th>\n",
              "      <td>1</td>\n",
              "      <td>1</td>\n",
              "      <td>0</td>\n",
              "      <td>28</td>\n",
              "      <td>44.6</td>\n",
              "      <td>152.0</td>\n",
              "      <td>19.300000</td>\n",
              "      <td>15</td>\n",
              "      <td>78</td>\n",
              "      <td>22</td>\n",
              "      <td>...</td>\n",
              "      <td>1.0</td>\n",
              "      <td>0</td>\n",
              "      <td>110</td>\n",
              "      <td>80</td>\n",
              "      <td>3</td>\n",
              "      <td>3</td>\n",
              "      <td>18.0</td>\n",
              "      <td>18.0</td>\n",
              "      <td>8.5</td>\n",
              "      <td>NaN</td>\n",
              "    </tr>\n",
              "    <tr>\n",
              "      <th>1</th>\n",
              "      <td>2</td>\n",
              "      <td>2</td>\n",
              "      <td>0</td>\n",
              "      <td>36</td>\n",
              "      <td>65.0</td>\n",
              "      <td>161.5</td>\n",
              "      <td>24.921163</td>\n",
              "      <td>15</td>\n",
              "      <td>74</td>\n",
              "      <td>20</td>\n",
              "      <td>...</td>\n",
              "      <td>0.0</td>\n",
              "      <td>0</td>\n",
              "      <td>120</td>\n",
              "      <td>70</td>\n",
              "      <td>3</td>\n",
              "      <td>5</td>\n",
              "      <td>15.0</td>\n",
              "      <td>14.0</td>\n",
              "      <td>3.7</td>\n",
              "      <td>NaN</td>\n",
              "    </tr>\n",
              "    <tr>\n",
              "      <th>2</th>\n",
              "      <td>3</td>\n",
              "      <td>3</td>\n",
              "      <td>1</td>\n",
              "      <td>33</td>\n",
              "      <td>68.8</td>\n",
              "      <td>165.0</td>\n",
              "      <td>25.270891</td>\n",
              "      <td>11</td>\n",
              "      <td>72</td>\n",
              "      <td>18</td>\n",
              "      <td>...</td>\n",
              "      <td>1.0</td>\n",
              "      <td>0</td>\n",
              "      <td>120</td>\n",
              "      <td>80</td>\n",
              "      <td>13</td>\n",
              "      <td>15</td>\n",
              "      <td>18.0</td>\n",
              "      <td>20.0</td>\n",
              "      <td>10.0</td>\n",
              "      <td>NaN</td>\n",
              "    </tr>\n",
              "    <tr>\n",
              "      <th>3</th>\n",
              "      <td>4</td>\n",
              "      <td>4</td>\n",
              "      <td>0</td>\n",
              "      <td>37</td>\n",
              "      <td>65.0</td>\n",
              "      <td>148.0</td>\n",
              "      <td>29.674945</td>\n",
              "      <td>13</td>\n",
              "      <td>72</td>\n",
              "      <td>20</td>\n",
              "      <td>...</td>\n",
              "      <td>0.0</td>\n",
              "      <td>0</td>\n",
              "      <td>120</td>\n",
              "      <td>70</td>\n",
              "      <td>2</td>\n",
              "      <td>2</td>\n",
              "      <td>15.0</td>\n",
              "      <td>14.0</td>\n",
              "      <td>7.5</td>\n",
              "      <td>NaN</td>\n",
              "    </tr>\n",
              "    <tr>\n",
              "      <th>4</th>\n",
              "      <td>5</td>\n",
              "      <td>5</td>\n",
              "      <td>0</td>\n",
              "      <td>25</td>\n",
              "      <td>52.0</td>\n",
              "      <td>161.0</td>\n",
              "      <td>20.060954</td>\n",
              "      <td>11</td>\n",
              "      <td>72</td>\n",
              "      <td>18</td>\n",
              "      <td>...</td>\n",
              "      <td>0.0</td>\n",
              "      <td>0</td>\n",
              "      <td>120</td>\n",
              "      <td>80</td>\n",
              "      <td>3</td>\n",
              "      <td>4</td>\n",
              "      <td>16.0</td>\n",
              "      <td>14.0</td>\n",
              "      <td>7.0</td>\n",
              "      <td>NaN</td>\n",
              "    </tr>\n",
              "  </tbody>\n",
              "</table>\n",
              "<p>5 rows × 45 columns</p>\n",
              "</div>\n",
              "    <div class=\"colab-df-buttons\">\n",
              "\n",
              "  <div class=\"colab-df-container\">\n",
              "    <button class=\"colab-df-convert\" onclick=\"convertToInteractive('df-b6a80845-8325-459e-aed8-6819d8219564')\"\n",
              "            title=\"Convert this dataframe to an interactive table.\"\n",
              "            style=\"display:none;\">\n",
              "\n",
              "  <svg xmlns=\"http://www.w3.org/2000/svg\" height=\"24px\" viewBox=\"0 -960 960 960\">\n",
              "    <path d=\"M120-120v-720h720v720H120Zm60-500h600v-160H180v160Zm220 220h160v-160H400v160Zm0 220h160v-160H400v160ZM180-400h160v-160H180v160Zm440 0h160v-160H620v160ZM180-180h160v-160H180v160Zm440 0h160v-160H620v160Z\"/>\n",
              "  </svg>\n",
              "    </button>\n",
              "\n",
              "  <style>\n",
              "    .colab-df-container {\n",
              "      display:flex;\n",
              "      gap: 12px;\n",
              "    }\n",
              "\n",
              "    .colab-df-convert {\n",
              "      background-color: #E8F0FE;\n",
              "      border: none;\n",
              "      border-radius: 50%;\n",
              "      cursor: pointer;\n",
              "      display: none;\n",
              "      fill: #1967D2;\n",
              "      height: 32px;\n",
              "      padding: 0 0 0 0;\n",
              "      width: 32px;\n",
              "    }\n",
              "\n",
              "    .colab-df-convert:hover {\n",
              "      background-color: #E2EBFA;\n",
              "      box-shadow: 0px 1px 2px rgba(60, 64, 67, 0.3), 0px 1px 3px 1px rgba(60, 64, 67, 0.15);\n",
              "      fill: #174EA6;\n",
              "    }\n",
              "\n",
              "    .colab-df-buttons div {\n",
              "      margin-bottom: 4px;\n",
              "    }\n",
              "\n",
              "    [theme=dark] .colab-df-convert {\n",
              "      background-color: #3B4455;\n",
              "      fill: #D2E3FC;\n",
              "    }\n",
              "\n",
              "    [theme=dark] .colab-df-convert:hover {\n",
              "      background-color: #434B5C;\n",
              "      box-shadow: 0px 1px 3px 1px rgba(0, 0, 0, 0.15);\n",
              "      filter: drop-shadow(0px 1px 2px rgba(0, 0, 0, 0.3));\n",
              "      fill: #FFFFFF;\n",
              "    }\n",
              "  </style>\n",
              "\n",
              "    <script>\n",
              "      const buttonEl =\n",
              "        document.querySelector('#df-b6a80845-8325-459e-aed8-6819d8219564 button.colab-df-convert');\n",
              "      buttonEl.style.display =\n",
              "        google.colab.kernel.accessAllowed ? 'block' : 'none';\n",
              "\n",
              "      async function convertToInteractive(key) {\n",
              "        const element = document.querySelector('#df-b6a80845-8325-459e-aed8-6819d8219564');\n",
              "        const dataTable =\n",
              "          await google.colab.kernel.invokeFunction('convertToInteractive',\n",
              "                                                    [key], {});\n",
              "        if (!dataTable) return;\n",
              "\n",
              "        const docLinkHtml = 'Like what you see? Visit the ' +\n",
              "          '<a target=\"_blank\" href=https://colab.research.google.com/notebooks/data_table.ipynb>data table notebook</a>'\n",
              "          + ' to learn more about interactive tables.';\n",
              "        element.innerHTML = '';\n",
              "        dataTable['output_type'] = 'display_data';\n",
              "        await google.colab.output.renderOutput(dataTable, element);\n",
              "        const docLink = document.createElement('div');\n",
              "        docLink.innerHTML = docLinkHtml;\n",
              "        element.appendChild(docLink);\n",
              "      }\n",
              "    </script>\n",
              "  </div>\n",
              "\n",
              "\n",
              "<div id=\"df-704aa280-54dd-4a18-9548-4e94b661967f\">\n",
              "  <button class=\"colab-df-quickchart\" onclick=\"quickchart('df-704aa280-54dd-4a18-9548-4e94b661967f')\"\n",
              "            title=\"Suggest charts\"\n",
              "            style=\"display:none;\">\n",
              "\n",
              "<svg xmlns=\"http://www.w3.org/2000/svg\" height=\"24px\"viewBox=\"0 0 24 24\"\n",
              "     width=\"24px\">\n",
              "    <g>\n",
              "        <path d=\"M19 3H5c-1.1 0-2 .9-2 2v14c0 1.1.9 2 2 2h14c1.1 0 2-.9 2-2V5c0-1.1-.9-2-2-2zM9 17H7v-7h2v7zm4 0h-2V7h2v10zm4 0h-2v-4h2v4z\"/>\n",
              "    </g>\n",
              "</svg>\n",
              "  </button>\n",
              "\n",
              "<style>\n",
              "  .colab-df-quickchart {\n",
              "      --bg-color: #E8F0FE;\n",
              "      --fill-color: #1967D2;\n",
              "      --hover-bg-color: #E2EBFA;\n",
              "      --hover-fill-color: #174EA6;\n",
              "      --disabled-fill-color: #AAA;\n",
              "      --disabled-bg-color: #DDD;\n",
              "  }\n",
              "\n",
              "  [theme=dark] .colab-df-quickchart {\n",
              "      --bg-color: #3B4455;\n",
              "      --fill-color: #D2E3FC;\n",
              "      --hover-bg-color: #434B5C;\n",
              "      --hover-fill-color: #FFFFFF;\n",
              "      --disabled-bg-color: #3B4455;\n",
              "      --disabled-fill-color: #666;\n",
              "  }\n",
              "\n",
              "  .colab-df-quickchart {\n",
              "    background-color: var(--bg-color);\n",
              "    border: none;\n",
              "    border-radius: 50%;\n",
              "    cursor: pointer;\n",
              "    display: none;\n",
              "    fill: var(--fill-color);\n",
              "    height: 32px;\n",
              "    padding: 0;\n",
              "    width: 32px;\n",
              "  }\n",
              "\n",
              "  .colab-df-quickchart:hover {\n",
              "    background-color: var(--hover-bg-color);\n",
              "    box-shadow: 0 1px 2px rgba(60, 64, 67, 0.3), 0 1px 3px 1px rgba(60, 64, 67, 0.15);\n",
              "    fill: var(--button-hover-fill-color);\n",
              "  }\n",
              "\n",
              "  .colab-df-quickchart-complete:disabled,\n",
              "  .colab-df-quickchart-complete:disabled:hover {\n",
              "    background-color: var(--disabled-bg-color);\n",
              "    fill: var(--disabled-fill-color);\n",
              "    box-shadow: none;\n",
              "  }\n",
              "\n",
              "  .colab-df-spinner {\n",
              "    border: 2px solid var(--fill-color);\n",
              "    border-color: transparent;\n",
              "    border-bottom-color: var(--fill-color);\n",
              "    animation:\n",
              "      spin 1s steps(1) infinite;\n",
              "  }\n",
              "\n",
              "  @keyframes spin {\n",
              "    0% {\n",
              "      border-color: transparent;\n",
              "      border-bottom-color: var(--fill-color);\n",
              "      border-left-color: var(--fill-color);\n",
              "    }\n",
              "    20% {\n",
              "      border-color: transparent;\n",
              "      border-left-color: var(--fill-color);\n",
              "      border-top-color: var(--fill-color);\n",
              "    }\n",
              "    30% {\n",
              "      border-color: transparent;\n",
              "      border-left-color: var(--fill-color);\n",
              "      border-top-color: var(--fill-color);\n",
              "      border-right-color: var(--fill-color);\n",
              "    }\n",
              "    40% {\n",
              "      border-color: transparent;\n",
              "      border-right-color: var(--fill-color);\n",
              "      border-top-color: var(--fill-color);\n",
              "    }\n",
              "    60% {\n",
              "      border-color: transparent;\n",
              "      border-right-color: var(--fill-color);\n",
              "    }\n",
              "    80% {\n",
              "      border-color: transparent;\n",
              "      border-right-color: var(--fill-color);\n",
              "      border-bottom-color: var(--fill-color);\n",
              "    }\n",
              "    90% {\n",
              "      border-color: transparent;\n",
              "      border-bottom-color: var(--fill-color);\n",
              "    }\n",
              "  }\n",
              "</style>\n",
              "\n",
              "  <script>\n",
              "    async function quickchart(key) {\n",
              "      const quickchartButtonEl =\n",
              "        document.querySelector('#' + key + ' button');\n",
              "      quickchartButtonEl.disabled = true;  // To prevent multiple clicks.\n",
              "      quickchartButtonEl.classList.add('colab-df-spinner');\n",
              "      try {\n",
              "        const charts = await google.colab.kernel.invokeFunction(\n",
              "            'suggestCharts', [key], {});\n",
              "      } catch (error) {\n",
              "        console.error('Error during call to suggestCharts:', error);\n",
              "      }\n",
              "      quickchartButtonEl.classList.remove('colab-df-spinner');\n",
              "      quickchartButtonEl.classList.add('colab-df-quickchart-complete');\n",
              "    }\n",
              "    (() => {\n",
              "      let quickchartButtonEl =\n",
              "        document.querySelector('#df-704aa280-54dd-4a18-9548-4e94b661967f button');\n",
              "      quickchartButtonEl.style.display =\n",
              "        google.colab.kernel.accessAllowed ? 'block' : 'none';\n",
              "    })();\n",
              "  </script>\n",
              "</div>\n",
              "\n",
              "    </div>\n",
              "  </div>\n"
            ],
            "application/vnd.google.colaboratory.intrinsic+json": {
              "type": "dataframe",
              "variable_name": "data"
            }
          },
          "metadata": {},
          "execution_count": 23
        }
      ]
    },
    {
      "cell_type": "code",
      "source": [
        "# Drop columns that are not needed for the analysis\n",
        "data = data.drop([\"Sl. No\", \"Patient File No.\"], axis=1)"
      ],
      "metadata": {
        "id": "0ei6AY1lHZ62"
      },
      "execution_count": 24,
      "outputs": []
    },
    {
      "cell_type": "code",
      "source": [
        "# Identify categorical columns\n",
        "categorical_columns = data.select_dtypes(include=['object']).columns"
      ],
      "metadata": {
        "id": "pv23iwVjE0NL"
      },
      "execution_count": 25,
      "outputs": []
    },
    {
      "cell_type": "code",
      "source": [
        "# Encode categorical variables\n",
        "categorical_columns = data.select_dtypes(include=['object']).columns\n",
        "label_encoders = {}\n",
        "for column in categorical_columns:\n",
        "    le = LabelEncoder()\n",
        "    data[column] = le.fit_transform(data[column].astype(str))\n",
        "    label_encoders[column] = le"
      ],
      "metadata": {
        "id": "NpPSjwWAE8fe"
      },
      "execution_count": 26,
      "outputs": []
    },
    {
      "cell_type": "code",
      "source": [
        "data.columns"
      ],
      "metadata": {
        "colab": {
          "base_uri": "https://localhost:8080/"
        },
        "id": "-wb94TNYIZY9",
        "outputId": "2841dadd-c3d0-4565-9647-35e1c66909ae"
      },
      "execution_count": 27,
      "outputs": [
        {
          "output_type": "execute_result",
          "data": {
            "text/plain": [
              "Index(['PCOS (Y/N)', ' Age (yrs)', 'Weight (Kg)', 'Height(Cm) ', 'BMI',\n",
              "       'Blood Group', 'Pulse rate(bpm) ', 'RR (breaths/min)', 'Hb(g/dl)',\n",
              "       'Cycle(R/I)', 'Cycle length(days)', 'Marraige Status (Yrs)',\n",
              "       'Pregnant(Y/N)', 'No. of aborptions', '  I   beta-HCG(mIU/mL)',\n",
              "       'II    beta-HCG(mIU/mL)', 'FSH(mIU/mL)', 'LH(mIU/mL)', 'FSH/LH',\n",
              "       'Hip(inch)', 'Waist(inch)', 'Waist:Hip Ratio', 'TSH (mIU/L)',\n",
              "       'AMH(ng/mL)', 'PRL(ng/mL)', 'Vit D3 (ng/mL)', 'PRG(ng/mL)',\n",
              "       'RBS(mg/dl)', 'Weight gain(Y/N)', 'hair growth(Y/N)',\n",
              "       'Skin darkening (Y/N)', 'Hair loss(Y/N)', 'Pimples(Y/N)',\n",
              "       'Fast food (Y/N)', 'Reg.Exercise(Y/N)', 'BP _Systolic (mmHg)',\n",
              "       'BP _Diastolic (mmHg)', 'Follicle No. (L)', 'Follicle No. (R)',\n",
              "       'Avg. F size (L) (mm)', 'Avg. F size (R) (mm)', 'Endometrium (mm)',\n",
              "       'Unnamed: 44'],\n",
              "      dtype='object')"
            ]
          },
          "metadata": {},
          "execution_count": 27
        }
      ]
    },
    {
      "cell_type": "code",
      "source": [
        "# Define features and target\n",
        "X = data.drop('PCOS (Y/N)', axis=1)\n",
        "y = data['PCOS (Y/N)']\n",
        "\n",
        "# Handle missing values\n",
        "imputer = SimpleImputer(strategy='mean')\n",
        "X = pd.DataFrame(imputer.fit_transform(X), columns=X.columns)\n",
        "\n",
        "# Balance dataset using SMOTE\n",
        "smote = SMOTE(random_state=42)\n",
        "X_resampled, y_resampled = smote.fit_resample(X, y)"
      ],
      "metadata": {
        "id": "ZRBVq3T3ZteY"
      },
      "execution_count": 28,
      "outputs": []
    },
    {
      "cell_type": "code",
      "source": [
        "# Feature selection using RandomForest Importance\n",
        "rf_temp = RandomForestClassifier(n_estimators=100, random_state=42)\n",
        "rf_temp.fit(X_resampled, y_resampled)\n",
        "feature_importance = pd.Series(rf_temp.feature_importances_, index=X.columns).sort_values(ascending=False)\n",
        "top_features = feature_importance[:10].index  # Selecting top 10 features\n",
        "X_resampled = X_resampled[top_features]\n",
        "\n",
        "# Split data into training and testing sets\n",
        "X_train, X_test, y_train, y_test = train_test_split(X_resampled, y_resampled, test_size=0.2, random_state=42, stratify=y_resampled)\n",
        "\n",
        "# Standardize features\n",
        "scaler = StandardScaler()\n",
        "X_train = scaler.fit_transform(X_train)\n",
        "X_test = scaler.transform(X_test)"
      ],
      "metadata": {
        "id": "mAdk6ZB-FDl2"
      },
      "execution_count": 29,
      "outputs": []
    },
    {
      "cell_type": "markdown",
      "source": [
        "**LOGISTIC REGRESSION MODEL **"
      ],
      "metadata": {
        "id": "ZK5Mr4yZdFEH"
      }
    },
    {
      "cell_type": "code",
      "source": [
        "# Logistic Regression Model\n",
        "log_reg = LogisticRegression(max_iter=1000)\n",
        "log_reg.fit(X_train, y_train)\n",
        "y_pred_log = log_reg.predict(X_test)"
      ],
      "metadata": {
        "id": "EII-XmopaR5f"
      },
      "execution_count": 12,
      "outputs": []
    },
    {
      "cell_type": "markdown",
      "source": [
        "**SVM **"
      ],
      "metadata": {
        "id": "eYWq3dwTdK15"
      }
    },
    {
      "cell_type": "code",
      "source": [
        "# Support Vector Machine with Hyperparameter Tuning\n",
        "svm = SVC()\n",
        "param_grid_svm = {'C': [0.1, 1, 10], 'kernel': ['linear', 'rbf']}\n",
        "skf = StratifiedKFold(n_splits=5, shuffle=True, random_state=42)\n",
        "grid_svm = GridSearchCV(svm, param_grid_svm, cv=skf, scoring='accuracy', n_jobs=-1)\n",
        "grid_svm.fit(X_train, y_train)\n",
        "best_svm = grid_svm.best_estimator_\n",
        "y_pred_svm = best_svm.predict(X_test)"
      ],
      "metadata": {
        "id": "oKQrjbgZarCa"
      },
      "execution_count": 15,
      "outputs": []
    },
    {
      "cell_type": "markdown",
      "source": [
        "**RANDOM FOREST**"
      ],
      "metadata": {
        "id": "hMupQP_hdN7H"
      }
    },
    {
      "cell_type": "code",
      "source": [
        "# Random Forest with Hyperparameter Tuning\n",
        "rf = RandomForestClassifier()\n",
        "param_grid_rf = {'n_estimators': [100, 200, 300], 'max_depth': [5, 10, 15], 'min_samples_split': [5, 10]}\n",
        "grid_rf = GridSearchCV(rf, param_grid_rf, cv=skf, scoring='accuracy', n_jobs=-1)\n",
        "grid_rf.fit(X_train, y_train)\n",
        "best_rf = grid_rf.best_estimator_\n",
        "y_pred_rf = best_rf.predict(X_test)"
      ],
      "metadata": {
        "id": "9kwCYKFkbq89"
      },
      "execution_count": 16,
      "outputs": []
    },
    {
      "cell_type": "markdown",
      "source": [
        "**ENSEMBLE LEARNING **"
      ],
      "metadata": {
        "id": "YDSwHe8DdZD4"
      }
    },
    {
      "cell_type": "code",
      "source": [
        "# Ensemble Learning (Voting Classifier)\n",
        "ensemble_model = VotingClassifier(estimators=[('log_reg', log_reg), ('svm', best_svm), ('rf', best_rf)], voting='hard')\n",
        "ensemble_model.fit(X_train, y_train)\n",
        "y_pred_ensemble = ensemble_model.predict(X_test)"
      ],
      "metadata": {
        "id": "_YjxQFRVcKS3"
      },
      "execution_count": 17,
      "outputs": []
    },
    {
      "cell_type": "code",
      "source": [
        "# Model Evaluation\n",
        "def evaluate_model(name, y_true, y_pred):\n",
        "    acc = accuracy_score(y_true, y_pred)\n",
        "    print(f\"{name} Accuracy: {acc:.4f}\")\n",
        "    print(classification_report(y_true, y_pred))\n",
        "    return acc\n",
        "\n",
        "acc_log = evaluate_model(\"Logistic Regression\", y_test, y_pred_log)\n",
        "acc_svm = evaluate_model(\"SVM\", y_test, y_pred_svm)\n",
        "acc_rf = evaluate_model(\"Random Forest\", y_test, y_pred_rf)\n",
        "acc_ensemble = evaluate_model(\"Ensemble Model\", y_test, y_pred_ensemble)"
      ],
      "metadata": {
        "colab": {
          "base_uri": "https://localhost:8080/"
        },
        "id": "ttX-5wMjcUhP",
        "outputId": "e279b496-768a-41aa-cc6a-4c7708f013ed"
      },
      "execution_count": 18,
      "outputs": [
        {
          "output_type": "stream",
          "name": "stdout",
          "text": [
            "Logistic Regression Accuracy: 0.9247\n",
            "              precision    recall  f1-score   support\n",
            "\n",
            "           0       0.94      0.90      0.92        73\n",
            "           1       0.91      0.95      0.93        73\n",
            "\n",
            "    accuracy                           0.92       146\n",
            "   macro avg       0.93      0.92      0.92       146\n",
            "weighted avg       0.93      0.92      0.92       146\n",
            "\n",
            "SVM Accuracy: 0.9521\n",
            "              precision    recall  f1-score   support\n",
            "\n",
            "           0       0.93      0.97      0.95        73\n",
            "           1       0.97      0.93      0.95        73\n",
            "\n",
            "    accuracy                           0.95       146\n",
            "   macro avg       0.95      0.95      0.95       146\n",
            "weighted avg       0.95      0.95      0.95       146\n",
            "\n",
            "Random Forest Accuracy: 0.9658\n",
            "              precision    recall  f1-score   support\n",
            "\n",
            "           0       0.96      0.97      0.97        73\n",
            "           1       0.97      0.96      0.97        73\n",
            "\n",
            "    accuracy                           0.97       146\n",
            "   macro avg       0.97      0.97      0.97       146\n",
            "weighted avg       0.97      0.97      0.97       146\n",
            "\n",
            "Ensemble Model Accuracy: 0.9589\n",
            "              precision    recall  f1-score   support\n",
            "\n",
            "           0       0.96      0.96      0.96        73\n",
            "           1       0.96      0.96      0.96        73\n",
            "\n",
            "    accuracy                           0.96       146\n",
            "   macro avg       0.96      0.96      0.96       146\n",
            "weighted avg       0.96      0.96      0.96       146\n",
            "\n"
          ]
        }
      ]
    },
    {
      "cell_type": "code",
      "source": [
        "\n",
        "# Plot Model Accuracy\n",
        "models = ['Logistic Regression', 'SVM', 'Random Forest', 'Ensemble']\n",
        "accuracy_scores = [acc_log, acc_svm, acc_rf, acc_ensemble]\n",
        "plt.figure(figsize=(8, 5))\n",
        "bars = plt.bar(models, accuracy_scores, color='teal')\n",
        "plt.xlabel('Models')\n",
        "plt.ylabel('Accuracy Score')\n",
        "plt.title('Model Accuracy Comparison')\n",
        "plt.ylim(0.7, 1)\n",
        "plt.show()"
      ],
      "metadata": {
        "colab": {
          "base_uri": "https://localhost:8080/",
          "height": 487
        },
        "id": "HeiW2ompcndQ",
        "outputId": "af11c69b-2b67-413c-8065-c48ea93145cd"
      },
      "execution_count": 19,
      "outputs": [
        {
          "output_type": "display_data",
          "data": {
            "text/plain": [
              "<Figure size 800x500 with 1 Axes>"
            ],
            "image/png": "[encoded data removed]"
          },
          "metadata": {}
        }
      ]
    }
  ]
}